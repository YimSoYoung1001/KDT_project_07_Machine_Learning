{
 "cells": [
  {
   "cell_type": "markdown",
   "source": [
    "[ 임소영 ] 의사결정트리, 부스팅\n",
    "\n",
    "[ 피쳐-(임시) ] 단백질(g),나트륨(mg) ,당류(g), 포화지방(g)\n",
    "\n",
    "[ 데이터셋 ] \n",
    "- 맥도날드 : https://www.kaggle.com/datasets/mcdonalds/nutrition-facts\n",
    "- 롯데리아 : https://www.lotteeatz.com/upload/stg/etc/ria/items.html\n",
    "- 미국 전 지점 : https://www.kaggle.com/datasets/ulrikthygepedersen/fastfood-nutrition\n",
    "- 버거킹 : https://emilysinglelife.tistory.com/62\n",
    "- 맘스터치(이미지) : https://www.momstouch.co.kr/m/brand/notice-view.php?idx=49\n",
    "- 노브랜드 : https://realjace.tistory.com/entry/%EB%85%B8%EB%B8%8C%EB%9E%9C%EB%93%9C%EB%B2%84%EA%B1%B0-%EB%A9%94%EB%89%B4%EB%B3%84-%EC%B9%BC%EB%A1%9C%EB%A6%AC-%EC%98%81%EC%96%91%EC%84%B1%EB%B6%84-%EC%B4%9D%EC%A0%95%EB%A6%AC\n",
    "- 프랭크 버거 : https://rooftoper.tistory.com/entry/%ED%94%84%EB%9E%AD%ED%81%AC-%EB%B2%84%EA%B1%B0-%EC%98%81%EC%96%91%EC%84%B1%EB%B6%84"
   ],
   "metadata": {
    "collapsed": false
   },
   "id": "8615fa0d8a997928"
  },
  {
   "cell_type": "markdown",
   "source": [
    "## 자료 준비, 전처리 (결측치, 중복값, 이상치)"
   ],
   "metadata": {
    "collapsed": false
   },
   "id": "8ad3614d9c217cdc"
  },
  {
   "cell_type": "code",
   "outputs": [],
   "source": [
    "import pandas as pd\n",
    "import matplotlib.pyplot as plt\n",
    "from sklearn.model_selection import train_test_split"
   ],
   "metadata": {
    "collapsed": true,
    "ExecuteTime": {
     "end_time": "2024-03-12T03:47:17.082862Z",
     "start_time": "2024-03-12T03:47:16.225156Z"
    }
   },
   "id": "initial_id",
   "execution_count": 8
  },
  {
   "cell_type": "code",
   "outputs": [
    {
     "name": "stdout",
     "output_type": "stream",
     "text": [
      "<class 'pandas.core.frame.DataFrame'>\n",
      "RangeIndex: 1068 entries, 0 to 1067\n",
      "Data columns (total 7 columns):\n",
      " #   Column      Non-Null Count  Dtype  \n",
      "---  ------      --------------  -----  \n",
      " 0   restaurant  1068 non-null   object \n",
      " 1   item        1068 non-null   object \n",
      " 2   calories    1068 non-null   float64\n",
      " 3   sodium      1068 non-null   float64\n",
      " 4   sugar       1068 non-null   float64\n",
      " 5   total_fat   1068 non-null   float64\n",
      " 6   protein     1068 non-null   float64\n",
      "dtypes: float64(5), object(2)\n",
      "memory usage: 58.5+ KB\n"
     ]
    }
   ],
   "source": [
    "file = './Hamburger.csv'\n",
    "data = pd.read_csv(file)\n",
    "data.info()"
   ],
   "metadata": {
    "collapsed": false,
    "ExecuteTime": {
     "end_time": "2024-03-12T03:47:18.142810Z",
     "start_time": "2024-03-12T03:47:18.129803Z"
    }
   },
   "id": "6e18e8ff6710abed",
   "execution_count": 9
  },
  {
   "cell_type": "code",
   "outputs": [
    {
     "data": {
      "text/plain": "restaurant    0\nitem          0\ncalories      0\nsodium        0\nsugar         0\ntotal_fat     0\nprotein       0\ndtype: int64"
     },
     "execution_count": 10,
     "metadata": {},
     "output_type": "execute_result"
    }
   ],
   "source": [
    "data.isna().sum()"
   ],
   "metadata": {
    "collapsed": false,
    "ExecuteTime": {
     "end_time": "2024-03-12T03:47:18.876160Z",
     "start_time": "2024-03-12T03:47:18.858792Z"
    }
   },
   "id": "c1fdd24ac4d686cb",
   "execution_count": 10
  },
  {
   "cell_type": "code",
   "outputs": [
    {
     "data": {
      "text/plain": "2"
     },
     "execution_count": 11,
     "metadata": {},
     "output_type": "execute_result"
    }
   ],
   "source": [
    "data.duplicated().sum()"
   ],
   "metadata": {
    "collapsed": false,
    "ExecuteTime": {
     "end_time": "2024-03-12T03:47:19.448461Z",
     "start_time": "2024-03-12T03:47:19.436337Z"
    }
   },
   "id": "caa85992d860c113",
   "execution_count": 11
  },
  {
   "cell_type": "code",
   "outputs": [
    {
     "data": {
      "text/plain": "        restaurant                                       item  calories  \\\n0        Mcdonalds           Artisan Grilled Chicken Sandwich    380.00   \n1        Mcdonalds             Single Bacon Smokehouse Burger    840.00   \n2        Mcdonalds             Double Bacon Smokehouse Burger   1130.00   \n3        Mcdonalds  Grilled Bacon Smokehouse Chicken Sandwich    750.00   \n4        Mcdonalds   Crispy Bacon Smokehouse Chicken Sandwich    920.00   \n...            ...                                        ...       ...   \n1063  prank_burger                                  더블치즈버거(L)    687.04   \n1064  prank_burger                                   머쉬룸버거(L)    665.30   \n1065  prank_burger                                    JG버거(L)    828.28   \n1066  prank_burger                                 SG불고기버거(L)    491.06   \n1067  prank_burger                                SG크림치즈버거(L)    613.32   \n\n       sodium  sugar  total_fat  protein  \n0     1110.00  11.00       7.00    37.00  \n1     1580.00  18.00      45.00    46.00  \n2     1920.00  18.00      67.00    70.00  \n3     1940.00  18.00      31.00    55.00  \n4     1980.00  18.00      45.00    46.00  \n...       ...    ...        ...      ...  \n1063     4.55  33.45      19.51  1149.60  \n1064    13.58  26.75      18.10  1203.43  \n1065     6.42  48.23      22.28  1574.77  \n1066    13.84  17.24      10.60   606.15  \n1067     8.45  28.27      18.30   972.04  \n\n[1068 rows x 7 columns]",
      "text/html": "<div>\n<style scoped>\n    .dataframe tbody tr th:only-of-type {\n        vertical-align: middle;\n    }\n\n    .dataframe tbody tr th {\n        vertical-align: top;\n    }\n\n    .dataframe thead th {\n        text-align: right;\n    }\n</style>\n<table border=\"1\" class=\"dataframe\">\n  <thead>\n    <tr style=\"text-align: right;\">\n      <th></th>\n      <th>restaurant</th>\n      <th>item</th>\n      <th>calories</th>\n      <th>sodium</th>\n      <th>sugar</th>\n      <th>total_fat</th>\n      <th>protein</th>\n    </tr>\n  </thead>\n  <tbody>\n    <tr>\n      <th>0</th>\n      <td>Mcdonalds</td>\n      <td>Artisan Grilled Chicken Sandwich</td>\n      <td>380.00</td>\n      <td>1110.00</td>\n      <td>11.00</td>\n      <td>7.00</td>\n      <td>37.00</td>\n    </tr>\n    <tr>\n      <th>1</th>\n      <td>Mcdonalds</td>\n      <td>Single Bacon Smokehouse Burger</td>\n      <td>840.00</td>\n      <td>1580.00</td>\n      <td>18.00</td>\n      <td>45.00</td>\n      <td>46.00</td>\n    </tr>\n    <tr>\n      <th>2</th>\n      <td>Mcdonalds</td>\n      <td>Double Bacon Smokehouse Burger</td>\n      <td>1130.00</td>\n      <td>1920.00</td>\n      <td>18.00</td>\n      <td>67.00</td>\n      <td>70.00</td>\n    </tr>\n    <tr>\n      <th>3</th>\n      <td>Mcdonalds</td>\n      <td>Grilled Bacon Smokehouse Chicken Sandwich</td>\n      <td>750.00</td>\n      <td>1940.00</td>\n      <td>18.00</td>\n      <td>31.00</td>\n      <td>55.00</td>\n    </tr>\n    <tr>\n      <th>4</th>\n      <td>Mcdonalds</td>\n      <td>Crispy Bacon Smokehouse Chicken Sandwich</td>\n      <td>920.00</td>\n      <td>1980.00</td>\n      <td>18.00</td>\n      <td>45.00</td>\n      <td>46.00</td>\n    </tr>\n    <tr>\n      <th>...</th>\n      <td>...</td>\n      <td>...</td>\n      <td>...</td>\n      <td>...</td>\n      <td>...</td>\n      <td>...</td>\n      <td>...</td>\n    </tr>\n    <tr>\n      <th>1063</th>\n      <td>prank_burger</td>\n      <td>더블치즈버거(L)</td>\n      <td>687.04</td>\n      <td>4.55</td>\n      <td>33.45</td>\n      <td>19.51</td>\n      <td>1149.60</td>\n    </tr>\n    <tr>\n      <th>1064</th>\n      <td>prank_burger</td>\n      <td>머쉬룸버거(L)</td>\n      <td>665.30</td>\n      <td>13.58</td>\n      <td>26.75</td>\n      <td>18.10</td>\n      <td>1203.43</td>\n    </tr>\n    <tr>\n      <th>1065</th>\n      <td>prank_burger</td>\n      <td>JG버거(L)</td>\n      <td>828.28</td>\n      <td>6.42</td>\n      <td>48.23</td>\n      <td>22.28</td>\n      <td>1574.77</td>\n    </tr>\n    <tr>\n      <th>1066</th>\n      <td>prank_burger</td>\n      <td>SG불고기버거(L)</td>\n      <td>491.06</td>\n      <td>13.84</td>\n      <td>17.24</td>\n      <td>10.60</td>\n      <td>606.15</td>\n    </tr>\n    <tr>\n      <th>1067</th>\n      <td>prank_burger</td>\n      <td>SG크림치즈버거(L)</td>\n      <td>613.32</td>\n      <td>8.45</td>\n      <td>28.27</td>\n      <td>18.30</td>\n      <td>972.04</td>\n    </tr>\n  </tbody>\n</table>\n<p>1068 rows × 7 columns</p>\n</div>"
     },
     "execution_count": 12,
     "metadata": {},
     "output_type": "execute_result"
    }
   ],
   "source": [
    "data"
   ],
   "metadata": {
    "collapsed": false,
    "ExecuteTime": {
     "end_time": "2024-03-12T03:47:19.931702Z",
     "start_time": "2024-03-12T03:47:19.917400Z"
    }
   },
   "id": "87581f917ef3ec86",
   "execution_count": 12
  },
  {
   "cell_type": "code",
   "outputs": [
    {
     "data": {
      "text/plain": "<Figure size 640x480 with 1 Axes>",
      "image/png": "[encoded data removed]"
     },
     "metadata": {},
     "output_type": "display_data"
    }
   ],
   "source": [
    "plt.boxplot(data[['calories','sodium','sugar','total_fat','protein']])\n",
    "plt.show()"
   ],
   "metadata": {
    "collapsed": false,
    "ExecuteTime": {
     "end_time": "2024-03-12T03:47:20.574653Z",
     "start_time": "2024-03-12T03:47:20.450523Z"
    }
   },
   "id": "902d61b49b03695e",
   "execution_count": 13
  },
  {
   "cell_type": "code",
   "outputs": [
    {
     "name": "stdout",
     "output_type": "stream",
     "text": [
      "------------------ 이상값이 될 기준 계산 ------------------\n",
      "\n",
      "[ lower의 개수 ]\n",
      "calories     0\n",
      "sodium       0\n",
      "sugar        0\n",
      "total_fat    0\n",
      "protein      0\n",
      "dtype: int64\n",
      "\n",
      "[ upper의 개수 ]\n",
      "calories      31\n",
      "sodium        26\n",
      "sugar        150\n",
      "total_fat     33\n",
      "protein       45\n",
      "dtype: int64\n"
     ]
    }
   ],
   "source": [
    "def print_flier(insert_data):\n",
    "    q1 = insert_data.quantile(0.25)\n",
    "    q3 = insert_data.quantile(0.75)\n",
    "    iqr = q3 - q1\n",
    "    #print(f\"[ q1 ] \\n{q1}\\n\\n[ q3 ] \\n{q3}\\n\")\n",
    "    #print(f\"[ iqr의 범위 ]\\n{iqr}\\n\")\n",
    "\n",
    "    print('------------------ 이상값이 될 기준 계산 ------------------\\n')\n",
    "\n",
    "    lower = q1 - 1.5 * iqr\n",
    "    #print(f\"[ lower의 값 ]\\n{lower}\\n\")\n",
    "    upper = q3 + 1.5 * iqr\n",
    "    #print(f\"[ upper의 값 ]\\n{upper}\\n\")\n",
    "\n",
    "    mask = insert_data < lower\n",
    "    print(f\"[ lower의 개수 ]\\n{mask.sum()}\\n\")\n",
    "    mask2 = insert_data > upper\n",
    "    print(f\"[ upper의 개수 ]\\n{mask2.sum()}\\n\")\n",
    "\n",
    "    return lower, upper\n",
    "\n",
    "lower, upper = print_flier(data[['calories','sodium','sugar','total_fat','protein']])"
   ],
   "metadata": {
    "collapsed": false,
    "ExecuteTime": {
     "end_time": "2024-03-12T03:47:21.059801Z",
     "start_time": "2024-03-12T03:47:21.033447Z"
    }
   },
   "id": "b252d322b3042151",
   "execution_count": 14
  },
  {
   "cell_type": "code",
   "outputs": [
    {
     "data": {
      "text/plain": "(1068, 5)"
     },
     "execution_count": 15,
     "metadata": {},
     "output_type": "execute_result"
    }
   ],
   "source": [
    "data[['calories','sodium','sugar','total_fat','protein']].shape"
   ],
   "metadata": {
    "collapsed": false,
    "ExecuteTime": {
     "end_time": "2024-03-12T03:47:21.546534Z",
     "start_time": "2024-03-12T03:47:21.533764Z"
    }
   },
   "id": "5c9696134f66350f",
   "execution_count": 15
  },
  {
   "cell_type": "code",
   "outputs": [],
   "source": [
    "def drop_flier(insert_data, col_name):\n",
    "    global lower\n",
    "    global upper\n",
    "    print(f\"이상치 제거 전 shape 확인: {insert_data.shape}\")\n",
    "    mask = insert_data[col_name] >= lower.loc[col_name]\n",
    "    insert_data = insert_data[mask]\n",
    "    #print(f\" '{col_name}' 컬럼에서 lower 미만의 값 제거 후 shape: {insert_data.shape}\")\n",
    "\n",
    "    mask2 = insert_data[col_name] <= upper.loc[col_name]\n",
    "    insert_data = insert_data[mask2]\n",
    "    #print(f\" '{col_name}' 컬럼에서 upper 초과의 값 제거 후 shape: {insert_data.shape}\\n\")\n",
    "    \n",
    "    print(f\"이상치 제거 후 shape 확인: {insert_data.shape} \\n\")\n",
    "    return insert_data\n",
    "\n",
    "# data_for_drop = data[['calories','sodium','sugar','total_fat','protein']]\n",
    "# data_for_drop = drop_flier(data_for_drop, 'calories')\n",
    "# data_for_drop = drop_flier(data_for_drop, 'sodium')\n",
    "# data_for_drop = drop_flier(data_for_drop, 'sugar')\n",
    "# data_for_drop = drop_flier(data_for_drop, 'total_fat')\n",
    "# data_for_drop = drop_flier(data_for_drop, 'protein')\n",
    "\n",
    "# 이상치 제거한 데이터에 맞게 원본 데이터도 제거된 인덱스 번호를 같이 drop 시켜줌\n",
    "# for i in list(data.index):\n",
    "#     if i not in (list(data_for_drop.index)):\n",
    "#         data.drop(i,inplace = True)\n",
    "# print(data.shape)\n",
    "# 인덱스 번호가 서로 일치하는지 확인\n",
    "# print(len(list(data_for_drop.index)) == len(list(data.index)))\n",
    "# 서로 일치하는 것을 확인 했으니 이 데이터를 이용해서 알고리즘 돌리겠다."
   ],
   "metadata": {
    "collapsed": false,
    "ExecuteTime": {
     "end_time": "2024-03-12T03:47:22.278042Z",
     "start_time": "2024-03-12T03:47:22.263757Z"
    }
   },
   "id": "5520a33c5bd489f2",
   "execution_count": 16
  },
  {
   "cell_type": "code",
   "outputs": [
    {
     "data": {
      "text/plain": "           calories    sodium     sugar  total_fat   protein\ncalories   1.000000  0.811985  0.305116   0.723007  0.172215\nsodium     0.811985  1.000000 -0.096722   0.706815  0.005060\nsugar      0.305116 -0.096722  1.000000  -0.055567  0.065918\ntotal_fat  0.723007  0.706815 -0.055567   1.000000  0.093055\nprotein    0.172215  0.005060  0.065918   0.093055  1.000000",
      "text/html": "<div>\n<style scoped>\n    .dataframe tbody tr th:only-of-type {\n        vertical-align: middle;\n    }\n\n    .dataframe tbody tr th {\n        vertical-align: top;\n    }\n\n    .dataframe thead th {\n        text-align: right;\n    }\n</style>\n<table border=\"1\" class=\"dataframe\">\n  <thead>\n    <tr style=\"text-align: right;\">\n      <th></th>\n      <th>calories</th>\n      <th>sodium</th>\n      <th>sugar</th>\n      <th>total_fat</th>\n      <th>protein</th>\n    </tr>\n  </thead>\n  <tbody>\n    <tr>\n      <th>calories</th>\n      <td>1.000000</td>\n      <td>0.811985</td>\n      <td>0.305116</td>\n      <td>0.723007</td>\n      <td>0.172215</td>\n    </tr>\n    <tr>\n      <th>sodium</th>\n      <td>0.811985</td>\n      <td>1.000000</td>\n      <td>-0.096722</td>\n      <td>0.706815</td>\n      <td>0.005060</td>\n    </tr>\n    <tr>\n      <th>sugar</th>\n      <td>0.305116</td>\n      <td>-0.096722</td>\n      <td>1.000000</td>\n      <td>-0.055567</td>\n      <td>0.065918</td>\n    </tr>\n    <tr>\n      <th>total_fat</th>\n      <td>0.723007</td>\n      <td>0.706815</td>\n      <td>-0.055567</td>\n      <td>1.000000</td>\n      <td>0.093055</td>\n    </tr>\n    <tr>\n      <th>protein</th>\n      <td>0.172215</td>\n      <td>0.005060</td>\n      <td>0.065918</td>\n      <td>0.093055</td>\n      <td>1.000000</td>\n    </tr>\n  </tbody>\n</table>\n</div>"
     },
     "execution_count": 17,
     "metadata": {},
     "output_type": "execute_result"
    }
   ],
   "source": [
    "data.corr(numeric_only=True)"
   ],
   "metadata": {
    "collapsed": false,
    "ExecuteTime": {
     "end_time": "2024-03-12T03:47:24.080285Z",
     "start_time": "2024-03-12T03:47:24.058731Z"
    }
   },
   "id": "e6b2b96c8b5c261b",
   "execution_count": 17
  },
  {
   "cell_type": "code",
   "outputs": [
    {
     "data": {
      "text/plain": "<Figure size 2000x1000 with 2 Axes>",
      "image/png": "[encoded data removed]"
     },
     "metadata": {},
     "output_type": "display_data"
    }
   ],
   "source": [
    "plt.figure(figsize=(20,10))\n",
    "plt.subplot(1,2,1)\n",
    "plt.scatter(data['calories'], data['sodium'], label = 'sodium', c = 'red', alpha = 0.7)\n",
    "plt.legend(loc = 'best')\n",
    "plt.xlabel('calories')\n",
    "plt.title(\"[visualization with calories]\")\n",
    "\n",
    "plt.subplot(1,2,2)\n",
    "plt.scatter(data['calories'], data['sugar'], label = 'sugar', alpha = 0.7)\n",
    "plt.scatter(data['calories'], data['total_fat'], label = 'total_fat', alpha = 0.7)\n",
    "plt.scatter(data['calories'], data['protein'], label = 'protein', alpha = 0.7)\n",
    "plt.legend(loc = 'best')\n",
    "plt.xlabel('calories')\n",
    "plt.title(\"[visualization with calories]\")\n",
    "plt.show()"
   ],
   "metadata": {
    "collapsed": false,
    "ExecuteTime": {
     "end_time": "2024-03-12T03:47:26.195881Z",
     "start_time": "2024-03-12T03:47:25.878446Z"
    }
   },
   "id": "55124a9879694a38",
   "execution_count": 18
  },
  {
   "cell_type": "markdown",
   "source": [
    "## 데이터셋 분리"
   ],
   "metadata": {
    "collapsed": false
   },
   "id": "5e9590dbc7b1d664"
  },
  {
   "cell_type": "code",
   "outputs": [],
   "source": [
    "target = data['calories']\n",
    "feature = data[['sodium','sugar','total_fat','protein']]"
   ],
   "metadata": {
    "collapsed": false,
    "ExecuteTime": {
     "end_time": "2024-03-12T03:47:27.437235Z",
     "start_time": "2024-03-12T03:47:27.421662Z"
    }
   },
   "id": "e2f890cdcbdf14f1",
   "execution_count": 19
  },
  {
   "cell_type": "code",
   "outputs": [
    {
     "name": "stdout",
     "output_type": "stream",
     "text": [
      "[훈련용] X_train : (801, 4)   y_train : (801,)\n",
      "[테스트용] X_test : (267,)   y_test : (267,)\n"
     ]
    }
   ],
   "source": [
    "X_train, X_test, y_train, y_test = train_test_split(feature, target, random_state = 425)\n",
    "\n",
    "print(f\"[훈련용] X_train : {X_train.shape}   y_train : {y_train.shape}\")\n",
    "print(f\"[테스트용] X_test : {y_test.shape}   y_test : {y_test.shape}\")"
   ],
   "metadata": {
    "collapsed": false,
    "ExecuteTime": {
     "end_time": "2024-03-12T03:47:28.933930Z",
     "start_time": "2024-03-12T03:47:28.926971Z"
    }
   },
   "id": "2891133b7d304255",
   "execution_count": 20
  },
  {
   "cell_type": "markdown",
   "source": [
    "## 스케일링"
   ],
   "metadata": {
    "collapsed": false
   },
   "id": "d90a6be35a962567"
  },
  {
   "cell_type": "code",
   "outputs": [],
   "source": [
    "from sklearn.preprocessing import StandardScaler\n",
    "\n",
    "scaler = StandardScaler()\n",
    "scaler.fit(X_train)\n",
    "\n",
    "scaled_X_train = scaler.transform(X_train)\n",
    "scaled_X_test = scaler.transform(X_test)"
   ],
   "metadata": {
    "collapsed": false,
    "ExecuteTime": {
     "end_time": "2024-03-12T03:47:30.771324Z",
     "start_time": "2024-03-12T03:47:30.752942Z"
    }
   },
   "id": "9b562fda6a56f603",
   "execution_count": 21
  },
  {
   "cell_type": "code",
   "outputs": [],
   "source": [
    "X_train = pd.DataFrame(scaled_X_train, columns = ['sodium', 'sugar', 'total_fat', 'protein'])\n",
    "X_test = pd.DataFrame(scaled_X_test, columns = ['sodium', 'sugar', 'total_fat', 'protein'])"
   ],
   "metadata": {
    "collapsed": false,
    "ExecuteTime": {
     "end_time": "2024-03-12T03:47:31.256309Z",
     "start_time": "2024-03-12T03:47:31.248326Z"
    }
   },
   "id": "1c3398d8e3532442",
   "execution_count": 22
  },
  {
   "cell_type": "code",
   "outputs": [
    {
     "data": {
      "text/plain": "\"\\nplt.figure(figsize=(14,6))\\nplt.subplot(1,2,1)\\nplt.scatter(y_train, X_train['sodium'], label = 'sodium', alpha = 0.5)\\nplt.scatter(y_train, X_train['sugar'], label = 'sugar', alpha = 0.5)\\nplt.scatter(y_train, X_train['total_fat'], label = 'total_fat', alpha = 0.5)\\nplt.scatter(y_train, X_train['protein'], label = 'protein', alpha = 0.5)\\nplt.legend(loc = 'best')\\nplt.title('preprocessing with STD scaler - TRAIN')\\n\\nplt.subplot(1,2,2)\\nplt.scatter(y_test, X_test['sodium'], label = 'sodium', alpha = 0.5)\\nplt.scatter(y_test, X_test['sugar'], label = 'sugar', alpha = 0.5)\\nplt.scatter(y_test, X_test['total_fat'], label = 'total_fat', alpha = 0.5)\\nplt.scatter(y_test, X_test['protein'], label = 'protein', alpha = 0.5)\\nplt.legend(loc = 'best')\\nplt.title('preprocessing with STD scaler - TEST')\\n\\nplt.tight_layout\\nplt.show()\\n\""
     },
     "execution_count": 23,
     "metadata": {},
     "output_type": "execute_result"
    }
   ],
   "source": [
    "# 스케일링이 잘 되었는지 확인해보자\n",
    "\"\"\"\n",
    "plt.figure(figsize=(14,6))\n",
    "plt.subplot(1,2,1)\n",
    "plt.scatter(y_train, X_train['sodium'], label = 'sodium', alpha = 0.5)\n",
    "plt.scatter(y_train, X_train['sugar'], label = 'sugar', alpha = 0.5)\n",
    "plt.scatter(y_train, X_train['total_fat'], label = 'total_fat', alpha = 0.5)\n",
    "plt.scatter(y_train, X_train['protein'], label = 'protein', alpha = 0.5)\n",
    "plt.legend(loc = 'best')\n",
    "plt.title('preprocessing with STD scaler - TRAIN')\n",
    "\n",
    "plt.subplot(1,2,2)\n",
    "plt.scatter(y_test, X_test['sodium'], label = 'sodium', alpha = 0.5)\n",
    "plt.scatter(y_test, X_test['sugar'], label = 'sugar', alpha = 0.5)\n",
    "plt.scatter(y_test, X_test['total_fat'], label = 'total_fat', alpha = 0.5)\n",
    "plt.scatter(y_test, X_test['protein'], label = 'protein', alpha = 0.5)\n",
    "plt.legend(loc = 'best')\n",
    "plt.title('preprocessing with STD scaler - TEST')\n",
    "\n",
    "plt.tight_layout\n",
    "plt.show()\n",
    "\"\"\"\n",
    "\n",
    "# 스케일링이 잘된 것을 확인했다"
   ],
   "metadata": {
    "collapsed": false,
    "ExecuteTime": {
     "end_time": "2024-03-12T03:47:32.446385Z",
     "start_time": "2024-03-12T03:47:32.440405Z"
    }
   },
   "id": "5ce0c9a83a785548",
   "execution_count": 23
  },
  {
   "cell_type": "markdown",
   "source": [
    "## 학습 및 평가"
   ],
   "metadata": {
    "collapsed": false
   },
   "id": "4aaa6883fe793f64"
  },
  {
   "cell_type": "code",
   "outputs": [],
   "source": [
    "from sklearn.ensemble import AdaBoostRegressor\n",
    "from sklearn.ensemble import GradientBoostingRegressor\n",
    "from sklearn.ensemble import HistGradientBoostingRegressor"
   ],
   "metadata": {
    "collapsed": false,
    "ExecuteTime": {
     "end_time": "2024-03-12T03:47:33.539986Z",
     "start_time": "2024-03-12T03:47:33.533320Z"
    }
   },
   "id": "4b7d08e0f064551",
   "execution_count": 24
  },
  {
   "cell_type": "code",
   "outputs": [
    {
     "name": "stdout",
     "output_type": "stream",
     "text": [
      "[train score] 0.7967840126461923      [test_score] 0.8394684422836962\n"
     ]
    }
   ],
   "source": [
    "model_01 = AdaBoostRegressor()\n",
    "model_01.fit(X_train, y_train)\n",
    "train_score = model_01.score(X_train, y_train)\n",
    "test_score = model_01.score(X_test, y_test)\n",
    "print(f\"[train score] {train_score}      [test_score] {test_score}\")"
   ],
   "metadata": {
    "collapsed": false,
    "ExecuteTime": {
     "end_time": "2024-03-12T03:47:34.403923Z",
     "start_time": "2024-03-12T03:47:34.268174Z"
    }
   },
   "id": "e83d1ce47671ed70",
   "execution_count": 25
  },
  {
   "cell_type": "code",
   "outputs": [
    {
     "name": "stdout",
     "output_type": "stream",
     "text": [
      "[train score] 0.941164256388292  [test_score] 0.8957109263742226\n"
     ]
    }
   ],
   "source": [
    "model_02 = HistGradientBoostingRegressor()\n",
    "model_02.fit(X_train, y_train)\n",
    "train_score = model_02.score(X_train, y_train)\n",
    "test_score = model_02.score(X_test, y_test)\n",
    "print(f\"[train score] {train_score}  [test_score] {test_score}\")"
   ],
   "metadata": {
    "collapsed": false,
    "ExecuteTime": {
     "end_time": "2024-03-12T03:47:35.548599Z",
     "start_time": "2024-03-12T03:47:35.234772Z"
    }
   },
   "id": "9a6608b467907e6d",
   "execution_count": 26
  },
  {
   "cell_type": "code",
   "outputs": [
    {
     "name": "stdout",
     "output_type": "stream",
     "text": [
      "[train score] 0.9510166614281074  [test_score] 0.954138551163993\n"
     ]
    }
   ],
   "source": [
    "model_03 = GradientBoostingRegressor()\n",
    "model_03.fit(X_train, y_train)\n",
    "train_score = model_03.score(X_train, y_train)\n",
    "test_score = model_03.score(X_test, y_test)\n",
    "print(f\"[train score] {train_score}  [test_score] {test_score}\")"
   ],
   "metadata": {
    "collapsed": false,
    "ExecuteTime": {
     "end_time": "2024-03-12T03:47:36.423061Z",
     "start_time": "2024-03-12T03:47:36.271440Z"
    }
   },
   "id": "a7ae89774fa72569",
   "execution_count": 27
  },
  {
   "cell_type": "markdown",
   "source": [
    "- GradientBoostingRegressor가 가장 점수 차이가 적기 때문에 이 모델로 채택했다."
   ],
   "metadata": {
    "collapsed": false
   },
   "id": "398383dda09d5311"
  },
  {
   "cell_type": "code",
   "outputs": [
    {
     "data": {
      "text/plain": "array([5.30100510e+02, 2.63268514e+02, 1.96258731e+03, 1.96232874e+02,\n       4.12044347e+02, 6.48807265e+02, 4.16668422e+02, 1.23588004e+02,\n       5.01296191e+01, 7.70827715e+02, 7.48830306e+02, 5.38545587e+02,\n       4.30482563e+02, 1.26264415e+02, 5.43925337e+02, 4.84828604e+02,\n       6.64160451e+02, 5.45000318e+02, 7.84260660e+02, 1.46926550e+02,\n       1.73210866e+00, 2.37398457e+02, 4.90273934e+02, 2.96914841e+02,\n       6.19304465e+02, 3.79436663e+02, 4.05629646e+02, 4.77393292e+02,\n       3.01740227e+02, 6.52576479e+01, 1.08701731e+02, 8.04682851e+02,\n       8.07859260e+02, 8.31199250e+01, 6.58205254e+02, 4.93119138e+02,\n       1.73210866e+00, 3.33224962e+02, 4.79189504e+02, 7.58974360e+00,\n       3.19601170e+02, 2.41722566e+01, 4.26390411e+02, 3.62065923e+02,\n       2.86893759e+02, 2.99373849e+02, 9.91776283e+02, 2.29893077e+02,\n       2.94276803e+02, 2.96112629e+02, 1.61249919e+02, 4.47577674e+02,\n       2.19806677e+01, 9.26290611e+02, 2.65358195e+02, 5.39498125e+02,\n       4.76823009e+02, 4.00083300e+02, 1.09123393e+02, 7.08416914e+02,\n       3.34023414e+02, 5.50209278e+02, 4.16373407e+02, 7.95206625e+01,\n       3.55822846e+02, 9.12420225e+02, 5.70055142e+02, 1.73210866e+00,\n       1.32254661e+02, 5.23995187e+02, 7.02847038e+02, 3.85409088e+02,\n       9.66999275e+02, 3.59040622e+02, 5.73361216e+02, 2.14527943e+02,\n       9.26379682e+02, 1.68092557e+02, 5.47180734e+02, 3.10379812e+02,\n       4.49683608e+02, 6.48238426e+02, 2.01484968e+02, 1.69077894e+02,\n       4.42657810e+02, 6.76725843e+02, 4.79974682e+02, 2.98462967e+02,\n       3.48187687e+02, 3.25732184e+02, 5.33877773e+02, 5.26941132e+02,\n       1.89864731e+02, 4.14338719e+02, 7.43398424e+02, 5.52943571e+02,\n       7.86687277e+02, 2.91359506e+02, 8.31316704e+02, 4.45641254e+02,\n       3.23496243e+02, 2.90709766e+02, 1.64448129e+02, 1.73210866e+00,\n       1.11137781e+02, 6.11551922e+02, 2.57304795e+02, 9.69713077e+01,\n       1.23105910e+02, 1.51562782e+03, 2.52905578e+02, 2.70769489e+02,\n       2.20497378e+02, 5.70622563e+02, 2.41884469e+02, 6.14370578e+02,\n       1.96232874e+02, 3.99001301e+02, 3.24563316e+02, 4.49641511e+02,\n       3.57654687e+02, 3.88415854e+02, 2.52944796e+03, 7.08416914e+02,\n       1.99167188e+02, 2.12771695e+02, 6.99912972e+02, 4.32292247e+02,\n       6.59313846e+02, 4.39936598e+02, 2.36866137e+02, 5.02682714e+02,\n       7.46406481e+02, 1.73210866e+00, 3.28778338e+02, 5.48033951e+02,\n       2.97384224e+02, 3.68620508e+02, 9.83599761e+02, 6.87405119e+02,\n       3.28547780e+02, 5.45704629e+02, 4.52551279e+02, 4.60597043e+02,\n       2.20639562e+02, 7.15685026e+02, 5.30100510e+02, 5.35348853e+02,\n       5.90378352e+02, 1.21215088e+01, 1.64782864e+03, 1.73210866e+00,\n       6.94255751e+02, 2.02463226e+02, 3.11063343e+02, 3.45709771e+02,\n       1.35490228e+02, 4.12087761e+02, 7.67619401e+02, 5.15134141e+01,\n       1.88657175e+02, 6.71909440e+02, 2.81904692e+02, 4.41925158e+02,\n       1.41203465e+02, 7.34422503e+02, 3.53300244e+02, 4.85973589e+02,\n       6.95054353e+02, 7.31850257e+02, 3.06330834e+02, 5.65873400e+02,\n       5.13695547e+02, 2.29530754e+02, 2.64266295e+02, 1.24608708e+03,\n       1.73210866e+00, 4.71594861e+02, 2.76296089e+02, 1.73210866e+00,\n       9.64116876e+02, 6.09406182e+02, 4.15196156e+02, 8.80536427e+02,\n       2.34158785e+02, 3.52841276e+02, 1.73210866e+00, 4.03548013e+02,\n       9.26241566e+01, 2.05676644e+03, 7.74830881e+02, 1.14349593e+03,\n       8.07698590e+02, 5.97828063e+02, 5.23995187e+02, 2.68274103e+02,\n       4.19559539e+02, 4.44151697e+02, 4.44151697e+02, 4.24551923e+02,\n       3.27349995e+02, 1.91773936e+02, 7.25719585e+02, 6.59852209e+02,\n       4.73352918e+02, 4.33834368e+02, 2.98232409e+02, 3.27231326e+02,\n       5.48026326e+01, 3.12770528e+02, 4.76556607e+02, 4.72587824e+02,\n       2.50160370e+03, 3.58144147e+02, 4.36924034e+02, 2.98232409e+02,\n       2.94993508e+02, 1.96258731e+03, 1.46945815e+02, 1.87687439e+02,\n       3.24337421e+02, 2.14302149e+02, 9.45839243e+02, 9.52374563e+01,\n       4.94134391e+02, 1.58882758e+02, 5.78321168e+02, 2.19806677e+01,\n       4.47061046e+02, 2.94276803e+02, 5.67402626e+02, 7.82305691e+02,\n       2.19806677e+01, 2.05155418e+02, 2.50586127e+02, 5.91221247e+02,\n       2.81108262e+02, 5.03970632e+02, 3.12379184e+02, 5.29920799e+02,\n       4.34174070e+02, 1.17219867e+02, 3.42483263e+02, 3.33413406e+02,\n       7.10040782e+02, 5.39219134e+02, 2.50586127e+02, 3.79738068e+02,\n       4.25113232e+02, 4.92255967e+02, 5.54470215e+02, 3.67772261e+02,\n       8.72550040e+02, 3.20954492e+02, 6.19382893e+02, 4.82875164e+02,\n       3.03708043e+02, 4.72456493e+02, 3.16828499e+02, 5.95383621e+02,\n       3.09404467e+02, 4.16730013e+02, 6.99912972e+02, 2.72917083e+03,\n       3.24178820e+02, 3.20538152e+02, 5.53728517e+02])"
     },
     "execution_count": 25,
     "metadata": {},
     "output_type": "execute_result"
    }
   ],
   "source": [
    "y_pred = model_03.predict(X_test)\n",
    "y_pred"
   ],
   "metadata": {
    "collapsed": false,
    "ExecuteTime": {
     "end_time": "2024-03-10T23:19:33.938009Z",
     "start_time": "2024-03-10T23:19:33.926131Z"
    }
   },
   "id": "8da3d754fbd451da",
   "execution_count": 25
  },
  {
   "cell_type": "code",
   "outputs": [
    {
     "name": "stdout",
     "output_type": "stream",
     "text": [
      "R2 SCORE : 0.9549542493779698\n",
      "MSE : 7005.9611123350405\n",
      "MAE : 61.159774451321844\n"
     ]
    }
   ],
   "source": [
    "from sklearn.metrics import mean_absolute_error, mean_squared_error, r2_score\n",
    "print(f\"R2 SCORE : {r2_score(y_test, y_pred)}\")\n",
    "print(f\"MSE : {mean_squared_error(y_test, y_pred)}\")\n",
    "print(f\"MAE : {mean_absolute_error(y_test, y_pred)}\")"
   ],
   "metadata": {
    "collapsed": false,
    "ExecuteTime": {
     "end_time": "2024-03-10T23:19:34.551242Z",
     "start_time": "2024-03-10T23:19:34.538289Z"
    }
   },
   "id": "c744f9aa45f1b61a",
   "execution_count": 26
  },
  {
   "cell_type": "markdown",
   "source": [
    "----------------------"
   ],
   "metadata": {
    "collapsed": false
   },
   "id": "dbf6fb0d5fe11aca"
  },
  {
   "cell_type": "markdown",
   "source": [
    "## 학습 및 평가 - decision_tree로 만든 모델을 활용해보기 (AdaBoostRegressor)"
   ],
   "metadata": {
    "collapsed": false
   },
   "id": "105f210f2b96423e"
  },
  {
   "cell_type": "code",
   "outputs": [],
   "source": [
    "from joblib import load\n",
    "model_file = './YSY_model/decision_tree_total_02.pkl'\n",
    "model = load(model_file)"
   ],
   "metadata": {
    "collapsed": false,
    "ExecuteTime": {
     "end_time": "2024-03-12T03:47:41.630990Z",
     "start_time": "2024-03-12T03:47:41.622011Z"
    }
   },
   "id": "a6e38d4222985294",
   "execution_count": 28
  },
  {
   "cell_type": "code",
   "outputs": [
    {
     "data": {
      "text/plain": "DecisionTreeRegressor(criterion='friedman_mse', max_depth=7, max_features=3,\n                      min_impurity_decrease=3, min_samples_leaf=3,\n                      min_samples_split=4)",
      "text/html": "<style>#sk-container-id-3 {color: black;}#sk-container-id-3 pre{padding: 0;}#sk-container-id-3 div.sk-toggleable {background-color: white;}#sk-container-id-3 label.sk-toggleable__label {cursor: pointer;display: block;width: 100%;margin-bottom: 0;padding: 0.3em;box-sizing: border-box;text-align: center;}#sk-container-id-3 label.sk-toggleable__label-arrow:before {content: \"▸\";float: left;margin-right: 0.25em;color: #696969;}#sk-container-id-3 label.sk-toggleable__label-arrow:hover:before {color: black;}#sk-container-id-3 div.sk-estimator:hover label.sk-toggleable__label-arrow:before {color: black;}#sk-container-id-3 div.sk-toggleable__content {max-height: 0;max-width: 0;overflow: hidden;text-align: left;background-color: #f0f8ff;}#sk-container-id-3 div.sk-toggleable__content pre {margin: 0.2em;color: black;border-radius: 0.25em;background-color: #f0f8ff;}#sk-container-id-3 input.sk-toggleable__control:checked~div.sk-toggleable__content {max-height: 200px;max-width: 100%;overflow: auto;}#sk-container-id-3 input.sk-toggleable__control:checked~label.sk-toggleable__label-arrow:before {content: \"▾\";}#sk-container-id-3 div.sk-estimator input.sk-toggleable__control:checked~label.sk-toggleable__label {background-color: #d4ebff;}#sk-container-id-3 div.sk-label input.sk-toggleable__control:checked~label.sk-toggleable__label {background-color: #d4ebff;}#sk-container-id-3 input.sk-hidden--visually {border: 0;clip: rect(1px 1px 1px 1px);clip: rect(1px, 1px, 1px, 1px);height: 1px;margin: -1px;overflow: hidden;padding: 0;position: absolute;width: 1px;}#sk-container-id-3 div.sk-estimator {font-family: monospace;background-color: #f0f8ff;border: 1px dotted black;border-radius: 0.25em;box-sizing: border-box;margin-bottom: 0.5em;}#sk-container-id-3 div.sk-estimator:hover {background-color: #d4ebff;}#sk-container-id-3 div.sk-parallel-item::after {content: \"\";width: 100%;border-bottom: 1px solid gray;flex-grow: 1;}#sk-container-id-3 div.sk-label:hover label.sk-toggleable__label {background-color: #d4ebff;}#sk-container-id-3 div.sk-serial::before {content: \"\";position: absolute;border-left: 1px solid gray;box-sizing: border-box;top: 0;bottom: 0;left: 50%;z-index: 0;}#sk-container-id-3 div.sk-serial {display: flex;flex-direction: column;align-items: center;background-color: white;padding-right: 0.2em;padding-left: 0.2em;position: relative;}#sk-container-id-3 div.sk-item {position: relative;z-index: 1;}#sk-container-id-3 div.sk-parallel {display: flex;align-items: stretch;justify-content: center;background-color: white;position: relative;}#sk-container-id-3 div.sk-item::before, #sk-container-id-3 div.sk-parallel-item::before {content: \"\";position: absolute;border-left: 1px solid gray;box-sizing: border-box;top: 0;bottom: 0;left: 50%;z-index: -1;}#sk-container-id-3 div.sk-parallel-item {display: flex;flex-direction: column;z-index: 1;position: relative;background-color: white;}#sk-container-id-3 div.sk-parallel-item:first-child::after {align-self: flex-end;width: 50%;}#sk-container-id-3 div.sk-parallel-item:last-child::after {align-self: flex-start;width: 50%;}#sk-container-id-3 div.sk-parallel-item:only-child::after {width: 0;}#sk-container-id-3 div.sk-dashed-wrapped {border: 1px dashed gray;margin: 0 0.4em 0.5em 0.4em;box-sizing: border-box;padding-bottom: 0.4em;background-color: white;}#sk-container-id-3 div.sk-label label {font-family: monospace;font-weight: bold;display: inline-block;line-height: 1.2em;}#sk-container-id-3 div.sk-label-container {text-align: center;}#sk-container-id-3 div.sk-container {/* jupyter's `normalize.less` sets `[hidden] { display: none; }` but bootstrap.min.css set `[hidden] { display: none !important; }` so we also need the `!important` here to be able to override the default hidden behavior on the sphinx rendered scikit-learn.org. See: https://github.com/scikit-learn/scikit-learn/issues/21755 */display: inline-block !important;position: relative;}#sk-container-id-3 div.sk-text-repr-fallback {display: none;}</style><div id=\"sk-container-id-3\" class=\"sk-top-container\"><div class=\"sk-text-repr-fallback\"><pre>DecisionTreeRegressor(criterion=&#x27;friedman_mse&#x27;, max_depth=7, max_features=3,\n                      min_impurity_decrease=3, min_samples_leaf=3,\n                      min_samples_split=4)</pre><b>In a Jupyter environment, please rerun this cell to show the HTML representation or trust the notebook. <br />On GitHub, the HTML representation is unable to render, please try loading this page with nbviewer.org.</b></div><div class=\"sk-container\" hidden><div class=\"sk-item\"><div class=\"sk-estimator sk-toggleable\"><input class=\"sk-toggleable__control sk-hidden--visually\" id=\"sk-estimator-id-3\" type=\"checkbox\" checked><label for=\"sk-estimator-id-3\" class=\"sk-toggleable__label sk-toggleable__label-arrow\">DecisionTreeRegressor</label><div class=\"sk-toggleable__content\"><pre>DecisionTreeRegressor(criterion=&#x27;friedman_mse&#x27;, max_depth=7, max_features=3,\n                      min_impurity_decrease=3, min_samples_leaf=3,\n                      min_samples_split=4)</pre></div></div></div></div></div>"
     },
     "execution_count": 29,
     "metadata": {},
     "output_type": "execute_result"
    }
   ],
   "source": [
    "model"
   ],
   "metadata": {
    "collapsed": false,
    "ExecuteTime": {
     "end_time": "2024-03-12T03:47:42.178704Z",
     "start_time": "2024-03-12T03:47:42.167929Z"
    }
   },
   "id": "628ff669cbc1aa25",
   "execution_count": 29
  },
  {
   "cell_type": "code",
   "outputs": [
    {
     "name": "stdout",
     "output_type": "stream",
     "text": [
      "[train score] 0.9615532734979404  [test score] 0.9453043114752552\n"
     ]
    }
   ],
   "source": [
    "boost_model = AdaBoostRegressor(model)\n",
    "boost_model.fit(X_train, y_train)\n",
    "train_score = boost_model.score(X_train, y_train)\n",
    "test_score = boost_model.score(X_test, y_test)\n",
    "print(f\"[train score] {train_score}  [test score] {test_score}\")\n",
    "\n",
    "# ADA를 하니 확실히 올라갔다! 최적적합으로 튜닝시켜보면 점수를 더 끌어올릴 수 있지 않을까?"
   ],
   "metadata": {
    "collapsed": false,
    "ExecuteTime": {
     "end_time": "2024-03-12T03:47:43.364048Z",
     "start_time": "2024-03-12T03:47:43.185797Z"
    }
   },
   "id": "bd1d0c58742e9e44",
   "execution_count": 30
  },
  {
   "cell_type": "markdown",
   "source": [
    "## 튜닝 : GridSearchCV"
   ],
   "metadata": {
    "collapsed": false
   },
   "id": "86f0f0e90ed3182"
  },
  {
   "cell_type": "code",
   "outputs": [
    {
     "name": "stdout",
     "output_type": "stream",
     "text": [
      "max train score : 0.9709000386763413\n",
      "max test score : 0.8605137416648845\n",
      "\n",
      "best parameters : {'learning_rate': 0.5, 'loss': 'exponential', 'n_estimators': 50}\n",
      "best score : 0.8605137416648845\n"
     ]
    }
   ],
   "source": [
    "from sklearn.model_selection import GridSearchCV\n",
    "\n",
    "boost_model = AdaBoostRegressor(model)\n",
    "\n",
    "param = {\n",
    "        'n_estimators':[50,100,150],\n",
    "         'learning_rate':[0.1, 0.5, 1.0, 1.5],\n",
    "         'loss':['linear', 'square','exponential']\n",
    "         }\n",
    "        \n",
    "cv_num = 5\n",
    "\n",
    "gs = GridSearchCV(boost_model, param_grid = param, cv = cv_num, return_train_score = True)\n",
    "\n",
    "result = gs.fit(X_train, y_train)\n",
    "\n",
    "resultDF = pd.DataFrame(gs.cv_results_)\n",
    "\n",
    "print(f\"max train score : {max(resultDF['mean_train_score'])}\")\n",
    "print(f\"max test score : {max(resultDF['mean_test_score'])}\\n\")\n",
    "\n",
    "# 최고 성능의 파라미터, 최고의 점수\n",
    "print(f\"best parameters : {gs.best_params_}\")\n",
    "print(f\"best score : {gs.best_score_}\")\n",
    "\n",
    "# 튜닝을 하지 않는 것이 더 높은 점수가 나와서 튜닝을 하지 않는 것으로 최종 모델로 결정하겠다."
   ],
   "metadata": {
    "collapsed": false,
    "ExecuteTime": {
     "end_time": "2024-03-12T03:48:21.648140Z",
     "start_time": "2024-03-12T03:47:46.259410Z"
    }
   },
   "id": "52a42a3725bdcd19",
   "execution_count": 31
  },
  {
   "cell_type": "code",
   "outputs": [
    {
     "name": "stdout",
     "output_type": "stream",
     "text": [
      "R2 SCORE : 0.9524674453422597\n",
      "MSE : 7392.733496579919\n",
      "MAE : 63.135246267020825\n"
     ]
    }
   ],
   "source": [
    "model = gs.best_estimator_\n",
    "y_pred = model.predict(X_test)\n",
    "\n",
    "from sklearn.metrics import mean_absolute_error, mean_squared_error, r2_score\n",
    "print(f\"R2 SCORE : {r2_score(y_test, y_pred)}\")\n",
    "print(f\"MSE : {mean_squared_error(y_test, y_pred)}\")\n",
    "print(f\"MAE : {mean_absolute_error(y_test, y_pred)}\")"
   ],
   "metadata": {
    "collapsed": false,
    "ExecuteTime": {
     "end_time": "2024-03-12T03:48:34.987005Z",
     "start_time": "2024-03-12T03:48:34.962331Z"
    }
   },
   "id": "2f655f8ef11b9a6b",
   "execution_count": 32
  },
  {
   "cell_type": "code",
   "outputs": [],
   "source": [
    "total_model = boost_model"
   ],
   "metadata": {
    "collapsed": false,
    "ExecuteTime": {
     "end_time": "2024-03-10T23:53:01.867096Z",
     "start_time": "2024-03-10T23:53:01.858959Z"
    }
   },
   "id": "355aebbfa5dccc2e",
   "execution_count": 39
  },
  {
   "cell_type": "markdown",
   "source": [
    "## 예측"
   ],
   "metadata": {
    "collapsed": false
   },
   "id": "e8efbb31d3057ba7"
  },
  {
   "cell_type": "code",
   "outputs": [
    {
     "data": {
      "text/plain": "array([ 609.36942675,  317.77777778, 1977.        ,  186.75      ,\n        393.        ,  624.23076923,  411.44117647,  167.41666667,\n        122.66666667,  652.        ,  685.        ,  490.02857143,\n        442.60714286,  206.31578947,  552.14285714,  574.94444444,\n        689.07377049,  576.11764706,  748.02061856,  172.5       ,\n         49.90909091,  221.32258065,  427.51428571,  307.22222222,\n        660.        ,  490.52631579,  392.85714286,  455.2       ,\n        331.39534884,   77.8       ,  144.5       ,  803.33333333,\n        740.66666667,  112.31578947,  711.50393701,  513.35820896,\n         49.90909091,  302.38596491,  492.        ,   49.90909091,\n        316.42857143,   66.75      ,  508.3488    ,  332.        ,\n        306.74074074,  250.4       ,  996.33333333,  228.37037037,\n        302.38596491,  295.23255814,  167.41666667,  443.7037037 ,\n         66.75      ,  966.71428571,  262.        ,  590.        ,\n        527.91891892,  383.33333333,  172.5       ,  742.09090909,\n        373.30769231,  567.97058824,  414.        ,  114.25      ,\n        340.        ,  997.91666667,  628.18556701,   51.83333333,\n        153.        ,  556.47058824,  758.22368421,  426.        ,\n        940.        ,  298.36842105,  614.13235294,  266.26470588,\n        958.5       ,  182.91666667,  560.77777778,  322.97272727,\n        515.73684211,  682.36458333,  256.66666667,  173.        ,\n        468.994     ,  666.85714286,  508.3488    ,  334.375     ,\n        369.29032258,  331.11111111,  524.88888889,  515.73684211,\n        219.08823529,  403.33333333,  711.50393701,  600.47530864,\n        752.01234568,  300.71794872,  787.025     ,  446.08333333,\n        322.97272727,  284.96774194,  117.28125   ,   51.83333333,\n        146.88888889,  752.01234568,  231.0952381 ,  102.        ,\n        146.88888889, 1510.        ,  281.65116279,  313.63636364,\n        256.69230769,  621.388     ,  284.96774194,  722.37078652,\n        181.66666667,  346.32876712,  404.        ,  517.65384615,\n        337.68965517,  428.83783784, 2230.        ,  748.02061856,\n        206.31578947,  248.57142857,  689.75      ,  463.33333333,\n        711.50393701,  430.76470588,  244.        ,  515.73684211,\n        802.75490196,   51.83333333,  357.        ,  570.        ,\n        277.05882353,  378.78571429,  836.66666667,  657.84      ,\n        334.375     ,  593.67256637,  452.4       ,  528.0952381 ,\n        248.57142857,  731.85185185,  609.36942675,  642.9       ,\n        594.13461538,   68.8       , 1218.        ,   51.83333333,\n        650.        ,  208.96296296,  331.39534884,  321.05263158,\n        168.84615385,  523.52941176,  750.8       ,   66.75      ,\n        215.8       ,  733.        ,  293.67307692,  485.15602837,\n        167.41666667,  687.73666667,  382.71698113,  513.35820896,\n        683.41666667,  764.07407407,  336.54545455,  622.98823529,\n        496.14285714,  219.08823529,  302.38596491, 1152.94117647,\n         51.83333333,  515.73684211,  250.        ,   45.33333333,\n       1011.51515152,  664.21875   ,  400.        ,  873.87096774,\n        300.71794872,  290.33333333,   49.90909091,  417.655     ,\n        138.57142857, 2053.8       ,  742.09090909, 1033.92857143,\n        742.09090909,  593.79710145,  556.47058824,  275.64705882,\n        431.3030303 ,  501.89655172,  501.89655172,  399.28571429,\n        302.38596491,  177.93333333,  742.09090909,  628.18556701,\n        543.13333333,  496.75409836,  324.64705882,  296.66666667,\n         96.33333333,  306.74074074,  513.35820896,  455.2       ,\n       2590.        ,  420.89041096,  420.71428571,  322.31576923,\n        321.05263158, 1977.        ,  177.93333333,  188.47285714,\n        326.44444444,  242.75      ,  995.55555556,  122.66666667,\n        480.75      ,  165.        ,  622.98823529,   73.14285714,\n        442.60714286,  313.42253521,  540.        ,  752.01234568,\n         64.75      ,  236.33333333,  279.27777778,  622.98823529,\n        289.27777778,  464.        ,  289.27777778,  517.65384615,\n        442.89473684,  168.84615385,  340.        ,  382.71698113,\n        689.07377049,  508.85496183,  279.27777778,  373.28571429,\n        467.31707317,  525.        ,  620.74074074,  361.        ,\n        811.76      ,  313.42253521,  640.88888889,  551.        ,\n        288.14533333,  534.89583333,  338.        ,  633.49473684,\n        284.96774194,  447.77777778,  689.75      , 2790.        ,\n        331.47540984,  331.47540984,  524.88888889])"
     },
     "execution_count": 40,
     "metadata": {},
     "output_type": "execute_result"
    }
   ],
   "source": [
    "y_pred = total_model.predict(X_test)\n",
    "y_pred"
   ],
   "metadata": {
    "collapsed": false,
    "ExecuteTime": {
     "end_time": "2024-03-10T23:53:03.473465Z",
     "start_time": "2024-03-10T23:53:03.455060Z"
    }
   },
   "id": "db30720a27a184a5",
   "execution_count": 40
  },
  {
   "cell_type": "code",
   "outputs": [],
   "source": [],
   "metadata": {
    "collapsed": false
   },
   "id": "4e858b7e1427f853"
  },
  {
   "cell_type": "code",
   "outputs": [],
   "source": [],
   "metadata": {
    "collapsed": false
   },
   "id": "328ebad8a6c5b44d"
  },
  {
   "cell_type": "markdown",
   "source": [
    "## 맘스터치"
   ],
   "metadata": {
    "collapsed": false
   },
   "id": "d527d5f9a0382f71"
  },
  {
   "cell_type": "code",
   "outputs": [],
   "source": [
    "file = "
   ],
   "metadata": {
    "collapsed": false
   },
   "id": "4970c98d27dd4a0"
  },
  {
   "cell_type": "code",
   "outputs": [],
   "source": [],
   "metadata": {
    "collapsed": false
   },
   "id": "41462306e3231e47"
  },
  {
   "cell_type": "code",
   "outputs": [],
   "source": [],
   "metadata": {
    "collapsed": false
   },
   "id": "627da68a03b99bb2"
  },
  {
   "cell_type": "code",
   "outputs": [],
   "source": [],
   "metadata": {
    "collapsed": false
   },
   "id": "6860305bb2aeb5e3"
  },
  {
   "cell_type": "code",
   "outputs": [],
   "source": [],
   "metadata": {
    "collapsed": false
   },
   "id": "45c6850867290a5e"
  },
  {
   "cell_type": "code",
   "outputs": [],
   "source": [],
   "metadata": {
    "collapsed": false
   },
   "id": "43a6a28236fcbf04"
  },
  {
   "cell_type": "code",
   "outputs": [],
   "source": [],
   "metadata": {
    "collapsed": false
   },
   "id": "e07a8dc92904d8d9"
  },
  {
   "cell_type": "code",
   "outputs": [],
   "source": [],
   "metadata": {
    "collapsed": false
   },
   "id": "8f272568224d97c3"
  },
  {
   "cell_type": "code",
   "outputs": [],
   "source": [],
   "metadata": {
    "collapsed": false
   },
   "id": "d1aa5ddb16d1ad5f"
  },
  {
   "cell_type": "markdown",
   "source": [
    "## 성능 평가"
   ],
   "metadata": {
    "collapsed": false
   },
   "id": "fe262dcbede0ea1"
  },
  {
   "cell_type": "code",
   "outputs": [],
   "source": [
    "from sklearn.metrics import mean_absolute_error, mean_squared_error, r2_score"
   ],
   "metadata": {
    "collapsed": false,
    "ExecuteTime": {
     "end_time": "2024-03-10T23:53:05.385204Z",
     "start_time": "2024-03-10T23:53:05.374627Z"
    }
   },
   "id": "e1101fa1736810a1",
   "execution_count": 41
  },
  {
   "cell_type": "code",
   "outputs": [
    {
     "name": "stdout",
     "output_type": "stream",
     "text": [
      "R2 SCORE : 0.9524433885964456\n",
      "MSE : 7396.475039862805\n",
      "MAE : 64.12161442660035\n"
     ]
    }
   ],
   "source": [
    "\n",
    "print(f\"R2 SCORE : {r2_score(y_test, y_pred)}\")\n",
    "print(f\"MSE : {mean_squared_error(y_test, y_pred)}\")\n",
    "print(f\"MAE : {mean_absolute_error(y_test, y_pred)}\")"
   ],
   "metadata": {
    "collapsed": false,
    "ExecuteTime": {
     "end_time": "2024-03-10T23:53:06.268993Z",
     "start_time": "2024-03-10T23:53:06.249Z"
    }
   },
   "id": "d6c1eac51a47fac9",
   "execution_count": 42
  },
  {
   "cell_type": "markdown",
   "source": [
    "## 모델 저장"
   ],
   "metadata": {
    "collapsed": false
   },
   "id": "89bd1e0b35e7d141"
  },
  {
   "cell_type": "code",
   "outputs": [],
   "source": [
    "import joblib\n",
    "import os"
   ],
   "metadata": {
    "collapsed": false,
    "ExecuteTime": {
     "end_time": "2024-03-10T23:53:14.653746Z",
     "start_time": "2024-03-10T23:53:14.645218Z"
    }
   },
   "id": "f0a70050bdc0ea18",
   "execution_count": 43
  },
  {
   "cell_type": "code",
   "outputs": [
    {
     "data": {
      "text/plain": "['./YSY_model/boosting_total.pkl']"
     },
     "execution_count": 45,
     "metadata": {},
     "output_type": "execute_result"
    }
   ],
   "source": [
    "model_dir = './YSY_model/'\n",
    "model_filename = model_dir + 'boosting_total.pkl'\n",
    "\n",
    "# 저장 폴더 존재 여부 확인 후 저장\n",
    "if not os.path.exists(model_dir):\n",
    "    os.mkdir(model_dir)\n",
    "    \n",
    "joblib.dump(model_03, model_filename)"
   ],
   "metadata": {
    "collapsed": false,
    "ExecuteTime": {
     "end_time": "2024-03-11T01:27:04.388868Z",
     "start_time": "2024-03-11T01:27:04.329888Z"
    }
   },
   "id": "95cded5f86e63ba6",
   "execution_count": 45
  },
  {
   "cell_type": "code",
   "outputs": [],
   "source": [],
   "metadata": {
    "collapsed": false
   },
   "id": "672a4180ca98855"
  }
 ],
 "metadata": {
  "kernelspec": {
   "display_name": "Python 3",
   "language": "python",
   "name": "python3"
  },
  "language_info": {
   "codemirror_mode": {
    "name": "ipython",
    "version": 2
   },
   "file_extension": ".py",
   "mimetype": "text/x-python",
   "name": "python",
   "nbconvert_exporter": "python",
   "pygments_lexer": "ipython2",
   "version": "2.7.6"
  }
 },
 "nbformat": 4,
 "nbformat_minor": 5
}
